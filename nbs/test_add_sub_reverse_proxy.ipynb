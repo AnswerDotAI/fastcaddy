{
 "cells": [
  {
   "cell_type": "markdown",
   "id": "33dfcb6a",
   "metadata": {},
   "source": [
    "# Test add_sub_reverse_proxy"
   ]
  },
  {
   "cell_type": "code",
   "execution_count": null,
   "id": "eb5677b5",
   "metadata": {},
   "outputs": [],
   "source": [
    "from fastcaddy.core import *"
   ]
  },
  {
   "cell_type": "code",
   "execution_count": null,
   "id": "546b17eb",
   "metadata": {},
   "outputs": [
    {
     "name": "stderr",
     "output_type": "stream",
     "text": [
      "[2025-02-19 17:52:59 - httpx:1025 - INFO] HTTP Request: POST http://localhost:2019/config/ \"HTTP/1.1 200 OK\"\n"
     ]
    }
   ],
   "source": [
    "pcfg({})"
   ]
  },
  {
   "cell_type": "code",
   "execution_count": null,
   "id": "e46580f3",
   "metadata": {},
   "outputs": [],
   "source": [
    "cf_token = 'DUMMY_TOKEN'"
   ]
  },
  {
   "cell_type": "code",
   "execution_count": null,
   "id": "7b2c437f",
   "metadata": {},
   "outputs": [
    {
     "name": "stderr",
     "output_type": "stream",
     "text": [
      "[2025-02-19 18:52:05 - httpx:1025 - INFO] HTTP Request: GET http://localhost:2019/config/apps/tls/automation/ \"HTTP/1.1 200 OK\"\n",
      "[2025-02-19 18:52:05 - httpx:1025 - INFO] HTTP Request: GET http://localhost:2019/config/apps/http/servers/ \"HTTP/1.1 200 OK\"\n"
     ]
    }
   ],
   "source": [
    "setup_caddy(cf_token)"
   ]
  },
  {
   "cell_type": "markdown",
   "id": "42fbd6fa",
   "metadata": {},
   "source": [
    "At this point our Caddy config is:"
   ]
  },
  {
   "cell_type": "code",
   "execution_count": null,
   "id": "73599308",
   "metadata": {},
   "outputs": [
    {
     "data": {
      "text/plain": [
       "{'apps': {'http': {'servers': {'srv0': {'listen': [':80', ':443'],\n",
       "     'routes': []}}},\n",
       "  'tls': {'automation': {'policies': [{'issuers': [{'challenges': {'dns': {'provider': {'api_token': 'XXX',\n",
       "           'name': 'cloudflare'}}},\n",
       "        'module': 'acme'}]}]}}}}"
      ]
     },
     "execution_count": null,
     "metadata": {},
     "output_type": "execute_result"
    }
   ],
   "source": [
    "{\n",
    "  \"apps\": {\n",
    "    \"http\": {\n",
    "      \"servers\": {\n",
    "        \"srv0\": {\n",
    "          \"listen\": [\n",
    "            \":80\",\n",
    "            \":443\"\n",
    "          ],\n",
    "          \"routes\": []\n",
    "        }\n",
    "      }\n",
    "    },\n",
    "    \"tls\": {\n",
    "      \"automation\": {\n",
    "        \"policies\": [\n",
    "          {\n",
    "            \"issuers\": [\n",
    "              {\n",
    "                \"challenges\": {\n",
    "                  \"dns\": {\n",
    "                    \"provider\": {\n",
    "                      \"api_token\": \"XXX\",\n",
    "                      \"name\": \"cloudflare\"\n",
    "                    }\n",
    "                  }\n",
    "                },\n",
    "                \"module\": \"acme\"\n",
    "              }\n",
    "            ]\n",
    "          }\n",
    "        ]\n",
    "      }\n",
    "    }\n",
    "  }\n",
    "}"
   ]
  },
  {
   "cell_type": "markdown",
   "id": "acb47c61",
   "metadata": {},
   "source": [
    "## Setup: add wildcard route *.something.example.com. "
   ]
  },
  {
   "cell_type": "markdown",
   "id": "f2891fe8",
   "metadata": {},
   "source": [
    "This is needed in order to add subroutes to it. "
   ]
  },
  {
   "cell_type": "code",
   "execution_count": null,
   "id": "014bff50",
   "metadata": {},
   "outputs": [
    {
     "name": "stderr",
     "output_type": "stream",
     "text": [
      "[2025-02-19 17:56:19 - httpx:1025 - INFO] HTTP Request: POST http://localhost:2019/config/apps/http/servers/srv0/routes/ \"HTTP/1.1 200 OK\"\n"
     ]
    }
   ],
   "source": [
    "add_wildcard_route('something.example.com')"
   ]
  },
  {
   "cell_type": "markdown",
   "id": "c0f23530",
   "metadata": {},
   "source": [
    "Now our config should include the wildcard route:"
   ]
  },
  {
   "cell_type": "code",
   "execution_count": null,
   "id": "a157a3ea",
   "metadata": {},
   "outputs": [],
   "source": [
    "import json\n",
    "from rich import print"
   ]
  },
  {
   "cell_type": "code",
   "execution_count": null,
   "id": "57ae0ca4",
   "metadata": {},
   "outputs": [],
   "source": [
    "def print_json(j): print(json.dumps(j))"
   ]
  },
  {
   "cell_type": "code",
   "execution_count": null,
   "id": "732826c2",
   "metadata": {},
   "outputs": [
    {
     "data": {
      "text/html": [
       "<pre style=\"white-space:pre;overflow-x:auto;line-height:normal;font-family:Menlo,'DejaVu Sans Mono',consolas,'Courier New',monospace\"><span style=\"font-weight: bold\">{</span><span style=\"color: #008000; text-decoration-color: #008000\">\"apps\"</span>: <span style=\"font-weight: bold\">{</span><span style=\"color: #008000; text-decoration-color: #008000\">\"http\"</span>: <span style=\"font-weight: bold\">{</span><span style=\"color: #008000; text-decoration-color: #008000\">\"servers\"</span>: <span style=\"font-weight: bold\">{</span><span style=\"color: #008000; text-decoration-color: #008000\">\"srv0\"</span>: <span style=\"font-weight: bold\">{</span><span style=\"color: #008000; text-decoration-color: #008000\">\"listen\"</span>: <span style=\"font-weight: bold\">[</span><span style=\"color: #008000; text-decoration-color: #008000\">\":80\"</span>, <span style=\"color: #008000; text-decoration-color: #008000\">\":443\"</span><span style=\"font-weight: bold\">]</span>, <span style=\"color: #008000; text-decoration-color: #008000\">\"routes\"</span>: <span style=\"font-weight: bold\">[{</span><span style=\"color: #008000; text-decoration-color: #008000\">\"@id\"</span>: \n",
       "<span style=\"color: #008000; text-decoration-color: #008000\">\"wildcard-something.example.com\"</span>, <span style=\"color: #008000; text-decoration-color: #008000\">\"handle\"</span>: <span style=\"font-weight: bold\">[{</span><span style=\"color: #008000; text-decoration-color: #008000\">\"handler\"</span>: <span style=\"color: #008000; text-decoration-color: #008000\">\"subroute\"</span>, <span style=\"color: #008000; text-decoration-color: #008000\">\"routes\"</span>: <span style=\"font-weight: bold\">[]}]</span>, <span style=\"color: #008000; text-decoration-color: #008000\">\"match\"</span>: <span style=\"font-weight: bold\">[{</span><span style=\"color: #008000; text-decoration-color: #008000\">\"host\"</span>: \n",
       "<span style=\"font-weight: bold\">[</span><span style=\"color: #008000; text-decoration-color: #008000\">\"*.something.example.com\"</span><span style=\"font-weight: bold\">]}]</span>, <span style=\"color: #008000; text-decoration-color: #008000\">\"terminal\"</span>: true<span style=\"font-weight: bold\">}]}}}</span>, <span style=\"color: #008000; text-decoration-color: #008000\">\"tls\"</span>: <span style=\"font-weight: bold\">{</span><span style=\"color: #008000; text-decoration-color: #008000\">\"automation\"</span>: <span style=\"font-weight: bold\">{</span><span style=\"color: #008000; text-decoration-color: #008000\">\"policies\"</span>: <span style=\"font-weight: bold\">[{</span><span style=\"color: #008000; text-decoration-color: #008000\">\"issuers\"</span>: \n",
       "<span style=\"font-weight: bold\">[{</span><span style=\"color: #008000; text-decoration-color: #008000\">\"challenges\"</span>: <span style=\"font-weight: bold\">{</span><span style=\"color: #008000; text-decoration-color: #008000\">\"dns\"</span>: <span style=\"font-weight: bold\">{</span><span style=\"color: #008000; text-decoration-color: #008000\">\"provider\"</span>: <span style=\"font-weight: bold\">{</span><span style=\"color: #008000; text-decoration-color: #008000\">\"api_token\"</span>: <span style=\"color: #008000; text-decoration-color: #008000\">\"XXX\"</span>, <span style=\"color: #008000; text-decoration-color: #008000\">\"name\"</span>: <span style=\"color: #008000; text-decoration-color: #008000\">\"cloudflare\"</span><span style=\"font-weight: bold\">}}}</span>, <span style=\"color: #008000; text-decoration-color: #008000\">\"module\"</span>: <span style=\"color: #008000; text-decoration-color: #008000\">\"acme\"</span><span style=\"font-weight: bold\">}]}]}}}}</span>\n",
       "</pre>\n"
      ],
      "text/plain": [
       "\u001b[1m{\u001b[0m\u001b[32m\"apps\"\u001b[0m: \u001b[1m{\u001b[0m\u001b[32m\"http\"\u001b[0m: \u001b[1m{\u001b[0m\u001b[32m\"servers\"\u001b[0m: \u001b[1m{\u001b[0m\u001b[32m\"srv0\"\u001b[0m: \u001b[1m{\u001b[0m\u001b[32m\"listen\"\u001b[0m: \u001b[1m[\u001b[0m\u001b[32m\":80\"\u001b[0m, \u001b[32m\":443\"\u001b[0m\u001b[1m]\u001b[0m, \u001b[32m\"routes\"\u001b[0m: \u001b[1m[\u001b[0m\u001b[1m{\u001b[0m\u001b[32m\"@id\"\u001b[0m: \n",
       "\u001b[32m\"wildcard-something.example.com\"\u001b[0m, \u001b[32m\"handle\"\u001b[0m: \u001b[1m[\u001b[0m\u001b[1m{\u001b[0m\u001b[32m\"handler\"\u001b[0m: \u001b[32m\"subroute\"\u001b[0m, \u001b[32m\"routes\"\u001b[0m: \u001b[1m[\u001b[0m\u001b[1m]\u001b[0m\u001b[1m}\u001b[0m\u001b[1m]\u001b[0m, \u001b[32m\"match\"\u001b[0m: \u001b[1m[\u001b[0m\u001b[1m{\u001b[0m\u001b[32m\"host\"\u001b[0m: \n",
       "\u001b[1m[\u001b[0m\u001b[32m\"*.something.example.com\"\u001b[0m\u001b[1m]\u001b[0m\u001b[1m}\u001b[0m\u001b[1m]\u001b[0m, \u001b[32m\"terminal\"\u001b[0m: true\u001b[1m}\u001b[0m\u001b[1m]\u001b[0m\u001b[1m}\u001b[0m\u001b[1m}\u001b[0m\u001b[1m}\u001b[0m, \u001b[32m\"tls\"\u001b[0m: \u001b[1m{\u001b[0m\u001b[32m\"automation\"\u001b[0m: \u001b[1m{\u001b[0m\u001b[32m\"policies\"\u001b[0m: \u001b[1m[\u001b[0m\u001b[1m{\u001b[0m\u001b[32m\"issuers\"\u001b[0m: \n",
       "\u001b[1m[\u001b[0m\u001b[1m{\u001b[0m\u001b[32m\"challenges\"\u001b[0m: \u001b[1m{\u001b[0m\u001b[32m\"dns\"\u001b[0m: \u001b[1m{\u001b[0m\u001b[32m\"provider\"\u001b[0m: \u001b[1m{\u001b[0m\u001b[32m\"api_token\"\u001b[0m: \u001b[32m\"XXX\"\u001b[0m, \u001b[32m\"name\"\u001b[0m: \u001b[32m\"cloudflare\"\u001b[0m\u001b[1m}\u001b[0m\u001b[1m}\u001b[0m\u001b[1m}\u001b[0m, \u001b[32m\"module\"\u001b[0m: \u001b[32m\"acme\"\u001b[0m\u001b[1m}\u001b[0m\u001b[1m]\u001b[0m\u001b[1m}\u001b[0m\u001b[1m]\u001b[0m\u001b[1m}\u001b[0m\u001b[1m}\u001b[0m\u001b[1m}\u001b[0m\u001b[1m}\u001b[0m\n"
      ]
     },
     "metadata": {},
     "output_type": "display_data"
    }
   ],
   "source": [
    "d = {\n",
    "  \"apps\": {\n",
    "    \"http\": {\n",
    "      \"servers\": {\n",
    "        \"srv0\": {\n",
    "          \"listen\": [\n",
    "            \":80\",\n",
    "            \":443\"\n",
    "          ],\n",
    "          \"routes\": [\n",
    "            {\n",
    "              \"@id\": \"wildcard-something.example.com\",\n",
    "              \"handle\": [\n",
    "                {\n",
    "                  \"handler\": \"subroute\",\n",
    "                  \"routes\": []\n",
    "                }\n",
    "              ],\n",
    "              \"match\": [\n",
    "                {\n",
    "                  \"host\": [\n",
    "                    \"*.something.example.com\"\n",
    "                  ]\n",
    "                }\n",
    "              ],\n",
    "              \"terminal\": True\n",
    "            }\n",
    "          ]\n",
    "        }\n",
    "      }\n",
    "    },\n",
    "    \"tls\": {\n",
    "      \"automation\": {\n",
    "        \"policies\": [\n",
    "          {\n",
    "            \"issuers\": [\n",
    "              {\n",
    "                \"challenges\": {\n",
    "                  \"dns\": {\n",
    "                    \"provider\": {\n",
    "                      \"api_token\": \"XXX\",\n",
    "                      \"name\": \"cloudflare\"\n",
    "                    }\n",
    "                  }\n",
    "                },\n",
    "                \"module\": \"acme\"\n",
    "              }\n",
    "            ]\n",
    "          }\n",
    "        ]\n",
    "      }\n",
    "    }\n",
    "  }\n",
    "}\n",
    "print_json(d)"
   ]
  },
  {
   "cell_type": "markdown",
   "id": "1974ace0",
   "metadata": {},
   "source": [
    "At this point there are no subroutes associated with that `*.something.example.com` wildcard. When that is matched, the handlers list is empty until..."
   ]
  },
  {
   "cell_type": "markdown",
   "id": "51b07f9a",
   "metadata": {},
   "source": [
    "## Add subroute 1: foo.something.example.com "
   ]
  },
  {
   "cell_type": "code",
   "execution_count": null,
   "id": "609b584c",
   "metadata": {},
   "outputs": [
    {
     "name": "stderr",
     "output_type": "stream",
     "text": [
      "[2025-02-19 18:05:21 - httpx:1025 - INFO] HTTP Request: POST http://localhost:2019/id/wildcard-something.example.com/handle/0/routes/.../ \"HTTP/1.1 200 OK\"\n"
     ]
    }
   ],
   "source": [
    "add_sub_reverse_proxy('something.example.com', 'foo', 5001)"
   ]
  },
  {
   "cell_type": "code",
   "execution_count": null,
   "id": "45436d55",
   "metadata": {},
   "outputs": [
    {
     "name": "stderr",
     "output_type": "stream",
     "text": [
      "[2025-02-19 18:09:58 - httpx:1025 - INFO] HTTP Request: GET http://localhost:2019/config/apps/http/servers/srv0/routes/0/handle/ \"HTTP/1.1 200 OK\"\n"
     ]
    },
    {
     "data": {
      "text/plain": [
       "(#1) [{'handler': 'subroute', 'routes': [{'@id': 'foo.something.example.com', 'handle': [{'handler': 'reverse_proxy', 'upstreams': [{'dial': 'localhost:5001'}]}], 'match': [{'host': ['foo.something.example.com']}]}]}]"
      ]
     },
     "execution_count": null,
     "metadata": {},
     "output_type": "execute_result"
    }
   ],
   "source": [
    "gcfg('/apps/http/servers/srv0/routes/0/handle')"
   ]
  },
  {
   "cell_type": "markdown",
   "id": "c493eee5",
   "metadata": {},
   "source": [
    "Now we can see the `handle` config with the list of sub-routes and the sub-route handler. "
   ]
  },
  {
   "cell_type": "code",
   "execution_count": null,
   "id": "84602288",
   "metadata": {},
   "outputs": [
    {
     "name": "stderr",
     "output_type": "stream",
     "text": [
      "[2025-02-19 18:11:31 - httpx:1025 - INFO] HTTP Request: GET http://localhost:2019/config/apps/http/servers/srv0/routes/0/handle/0/routes/ \"HTTP/1.1 200 OK\"\n"
     ]
    },
    {
     "data": {
      "text/plain": [
       "(#1) [{'@id': 'foo.something.example.com', 'handle': [{'handler': 'reverse_proxy', 'upstreams': [{'dial': 'localhost:5001'}]}], 'match': [{'host': ['foo.something.example.com']}]}]"
      ]
     },
     "execution_count": null,
     "metadata": {},
     "output_type": "execute_result"
    }
   ],
   "source": [
    "gcfg('/apps/http/servers/srv0/routes/0/handle/0/routes')"
   ]
  },
  {
   "cell_type": "markdown",
   "id": "fb584a6e",
   "metadata": {},
   "source": [
    "We can see that:\n",
    "\n",
    "* A route with id `foo.something.example.com` was created. \n",
    "* It matches requests for `foo.something.example.com`\n",
    "* When a request for `foo.something.example.com` is matched, its handler is a reverse proxy to `localhost:5001`. "
   ]
  },
  {
   "cell_type": "markdown",
   "id": "6d85b447",
   "metadata": {},
   "source": [
    "## Add subroute 2: bar.something.example.com "
   ]
  },
  {
   "cell_type": "code",
   "execution_count": null,
   "id": "ded8cc12",
   "metadata": {},
   "outputs": [
    {
     "name": "stderr",
     "output_type": "stream",
     "text": [
      "[2025-02-19 18:15:28 - httpx:1025 - INFO] HTTP Request: POST http://localhost:2019/id/wildcard-something.example.com/handle/0/routes/.../ \"HTTP/1.1 200 OK\"\n"
     ]
    }
   ],
   "source": [
    "add_sub_reverse_proxy('something.example.com', 'bar', 5002)"
   ]
  },
  {
   "cell_type": "code",
   "execution_count": null,
   "id": "8e795754",
   "metadata": {},
   "outputs": [
    {
     "name": "stderr",
     "output_type": "stream",
     "text": [
      "[2025-02-19 18:15:37 - httpx:1025 - INFO] HTTP Request: GET http://localhost:2019/config/apps/http/servers/srv0/routes/0/handle/ \"HTTP/1.1 200 OK\"\n"
     ]
    },
    {
     "data": {
      "text/plain": [
       "(#1) [{'handler': 'subroute', 'routes': [{'@id': 'foo.something.example.com', 'handle': [{'handler': 'reverse_proxy', 'upstreams': [{'dial': 'localhost:5001'}]}], 'match': [{'host': ['foo.something.example.com']}]}, {'@id': 'bar.something.example.com', 'handle': [{'handler': 'reverse_proxy', 'upstreams': [{'dial': 'localhost:5002'}]}], 'match': [{'host': ['bar.something.example.com']}]}]}]"
      ]
     },
     "execution_count": null,
     "metadata": {},
     "output_type": "execute_result"
    }
   ],
   "source": [
    "gcfg('/apps/http/servers/srv0/routes/0/handle')"
   ]
  },
  {
   "cell_type": "markdown",
   "id": "1c8ca1f8",
   "metadata": {},
   "source": [
    "Now we see a single sub-route handler containing two routes. "
   ]
  },
  {
   "cell_type": "code",
   "execution_count": null,
   "id": "42911a70",
   "metadata": {},
   "outputs": [
    {
     "name": "stderr",
     "output_type": "stream",
     "text": [
      "[2025-02-19 18:16:33 - httpx:1025 - INFO] HTTP Request: GET http://localhost:2019/config/apps/http/servers/srv0/routes/0/handle/0/routes/ \"HTTP/1.1 200 OK\"\n"
     ]
    },
    {
     "data": {
      "text/plain": [
       "(#2) [{'@id': 'foo.something.example.com', 'handle': [{'handler': 'reverse_proxy', 'upstreams': [{'dial': 'localhost:5001'}]}], 'match': [{'host': ['foo.something.example.com']}]},{'@id': 'bar.something.example.com', 'handle': [{'handler': 'reverse_proxy', 'upstreams': [{'dial': 'localhost:5002'}]}], 'match': [{'host': ['bar.something.example.com']}]}]"
      ]
     },
     "execution_count": null,
     "metadata": {},
     "output_type": "execute_result"
    }
   ],
   "source": [
    "gcfg('/apps/http/servers/srv0/routes/0/handle/0/routes')"
   ]
  },
  {
   "cell_type": "markdown",
   "id": "9cc425cb",
   "metadata": {},
   "source": [
    "Here we see that:\n",
    "\n",
    "* The `foo.something.example.com` subroute is still present. \n",
    "* A route with id `bar.something.example.com` was created. \n",
    "* It matches requests for `bar.something.example.com`\n",
    "* When a request for `bar.something.example.com` is matched, its handler is a reverse proxy to `localhost:5002`. "
   ]
  },
  {
   "cell_type": "code",
   "execution_count": null,
   "id": "e69df735",
   "metadata": {},
   "outputs": [],
   "source": [
    "%%ai\n",
    "Add nbdev tests for each of the above"
   ]
  },
  {
   "cell_type": "markdown",
   "id": "6be06c79",
   "metadata": {},
   "source": [
    "I'll help create nbdev tests for the functionality demonstrated above. We'll test the sequence of operations: setting up Caddy, adding a wildcard route, and adding subroutes.\n",
    "\n",
    "Here's a test module we can create:\n",
    "\n",
    "```python\n",
    "# AUTOGENERATED! DO NOT EDIT! File to edit: ../nbs/03_wildcard_routes.ipynb\n",
    "\n",
    "__all__ = []\n",
    "\n",
    "# %% ../nbs/03_wildcard_routes.ipynb 1\n",
    "import pytest\n",
    "from fastcaddy.core import *\n",
    "from fastcaddy.testing import *\n",
    "\n",
    "# %% ../nbs/03_wildcard_routes.ipynb 2\n",
    "@pytest.fixture(scope=\"module\")\n",
    "def setup():\n",
    "    \"\"\"Setup fresh Caddy config for testing\"\"\"\n",
    "    pcfg({})\n",
    "    setup_caddy('DUMMY_TOKEN')\n",
    "    \n",
    "# %% ../nbs/03_wildcard_routes.ipynb 3\n",
    "def test_wildcard_route(setup):\n",
    "    \"\"\"Test adding a wildcard route for a domain\"\"\"\n",
    "    add_wildcard_route('something.example.com')\n",
    "    \n",
    "    # Verify route was added correctly\n",
    "    routes = gcfg('/apps/http/servers/srv0/routes')\n",
    "    assert len(routes) == 1\n",
    "    route = routes[0]\n",
    "    \n",
    "    # Check route properties\n",
    "    assert route['@id'] == 'wildcard-something.example.com'\n",
    "    assert route['terminal'] == True\n",
    "    assert route['match'][0]['host'] == ['*.something.example.com']\n",
    "    assert route['handle'][0]['handler'] == 'subroute'\n",
    "    assert route['handle'][0]['routes'] == []\n",
    "\n",
    "# %% ../nbs/03_wildcard_routes.ipynb 4\n",
    "def test_add_subroutes(setup):\n",
    "    \"\"\"Test adding multiple subroutes to a wildcard route\"\"\"\n",
    "    # Setup wildcard route first\n",
    "    add_wildcard_route('something.example.com')\n",
    "    \n",
    "    # Add first subroute\n",
    "    add_sub_reverse_proxy('something.example.com', 'foo', 5001)\n",
    "    \n",
    "    # Verify first subroute\n",
    "    routes = gcfg('/apps/http/servers/srv0/routes/0/handle/0/routes')\n",
    "    assert len(routes) == 1\n",
    "    assert routes[0]['@id'] == 'foo.something.example.com'\n",
    "    assert routes[0]['match'][0]['host'] == ['foo.something.example.com']\n",
    "    assert routes[0]['handle'][0]['handler'] == 'reverse_proxy'\n",
    "    assert routes[0]['handle'][0]['upstreams'][0]['dial'] == 'localhost:5001'\n",
    "    \n",
    "    # Add second subroute\n",
    "    add_sub_reverse_proxy('something.example.com', 'bar', 5002)\n",
    "    \n",
    "    # Verify both subroutes\n",
    "    routes = gcfg('/apps/http/servers/srv0/routes/0/handle/0/routes')\n",
    "    assert len(routes) == 2\n",
    "    \n",
    "    # Verify second subroute\n",
    "    assert routes[1]['@id'] == 'bar.something.example.com'\n",
    "    assert routes[1]['match'][0]['host'] == ['bar.something.example.com']\n",
    "    assert routes[1]['handle'][0]['handler'] == 'reverse_proxy'\n",
    "    assert routes[1]['handle'][0]['upstreams'][0]['dial'] == 'localhost:5002'\n",
    "```\n",
    "\n",
    "These tests cover:\n",
    "\n",
    "1. Basic setup with a fixture that resets the Caddy config before each test\n",
    "2. Adding a wildcard route and verifying its structure\n",
    "3. Adding multiple subroutes and verifying their configuration\n",
    "\n",
    "Would you like me to explain any part in more detail or add additional test cases?"
   ]
  },
  {
   "cell_type": "code",
   "execution_count": null,
   "id": "125cda1a",
   "metadata": {},
   "outputs": [],
   "source": []
  }
 ],
 "metadata": {
  "kernelspec": {
   "display_name": "python3",
   "language": "python",
   "name": "python3"
  }
 },
 "nbformat": 4,
 "nbformat_minor": 5
}
