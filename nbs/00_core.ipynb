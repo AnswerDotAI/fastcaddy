{
 "cells": [
  {
   "cell_type": "code",
   "execution_count": null,
   "metadata": {},
   "outputs": [],
   "source": [
    "#| default_exp core"
   ]
  },
  {
   "cell_type": "markdown",
   "metadata": {},
   "source": [
    "# API\n",
    "\n",
    "> Basic API for Caddy"
   ]
  },
  {
   "cell_type": "markdown",
   "metadata": {},
   "source": [
    "# Caddy admin"
   ]
  },
  {
   "cell_type": "code",
   "execution_count": null,
   "metadata": {},
   "outputs": [],
   "source": [
    "#| export\n",
    "import os, subprocess, httpx, json\n",
    "from fastcore.utils import *\n",
    "from httpx import get as xget, post as xpost, patch as xpatch, put as xput, delete as xdelete, head as xhead"
   ]
  },
  {
   "cell_type": "markdown",
   "metadata": {},
   "source": [
    "## Initial functions"
   ]
  },
  {
   "cell_type": "code",
   "execution_count": null,
   "metadata": {},
   "outputs": [],
   "source": [
    "#| export\n",
    "def get_id(path):\n",
    "    \"Get a ID full URL from a path\"\n",
    "    if path[0 ]!='/': path = '/'+path\n",
    "    if path[-1]!='/': path = path+'/'\n",
    "    return f'http://localhost:2019/id{path}'"
   ]
  },
  {
   "cell_type": "code",
   "execution_count": null,
   "metadata": {},
   "outputs": [],
   "source": [
    "host = 'jph.answer.ai'"
   ]
  },
  {
   "cell_type": "code",
   "execution_count": null,
   "metadata": {},
   "outputs": [
    {
     "data": {
      "text/plain": [
       "'http://localhost:2019/id/jph.answer.ai/'"
      ]
     },
     "execution_count": null,
     "metadata": {},
     "output_type": "execute_result"
    }
   ],
   "source": [
    "get_id('jph.answer.ai')"
   ]
  },
  {
   "cell_type": "code",
   "execution_count": null,
   "metadata": {},
   "outputs": [],
   "source": [
    "#| export\n",
    "def get_path(path):\n",
    "    \"Get a config full URL from a path\"\n",
    "    if path[0 ]!='/': path = '/'+path\n",
    "    if path[-1]!='/': path = path+'/'\n",
    "    return f'http://localhost:2019/config{path}'"
   ]
  },
  {
   "cell_type": "code",
   "execution_count": null,
   "metadata": {},
   "outputs": [
    {
     "data": {
      "text/plain": [
       "'http://localhost:2019/config/apps/tls/automation/policies/'"
      ]
     },
     "execution_count": null,
     "metadata": {},
     "output_type": "execute_result"
    }
   ],
   "source": [
    "get_path('/apps/tls/automation/policies')"
   ]
  },
  {
   "cell_type": "code",
   "execution_count": null,
   "metadata": {},
   "outputs": [],
   "source": [
    "#| export\n",
    "def gid(path='/'):\n",
    "    \"Gets the id at `path`\"\n",
    "    response = xget(get_id(path))\n",
    "    response.raise_for_status()\n",
    "    return dict2obj(response.json())"
   ]
  },
  {
   "cell_type": "code",
   "execution_count": null,
   "metadata": {},
   "outputs": [],
   "source": [
    "#| export\n",
    "def gcfg(path='/', method='get'):\n",
    "    \"Gets the config at `path`\"\n",
    "    f = getattr(httpx, method)\n",
    "    response = f(get_path(path))\n",
    "    response.raise_for_status()\n",
    "    return dict2obj(response.json())"
   ]
  },
  {
   "cell_type": "code",
   "execution_count": null,
   "metadata": {},
   "outputs": [
    {
     "data": {
      "text/markdown": [
       "```json\n",
       "{ 'apps': { 'tls': { 'automation': { 'policies': [{'issuers': [{'challenges': {'dns': {'provider': {'api_token': 'Q4WJIAN0l8CBCJg5ZNsPl38H69Y3I9tEomH12BrF', 'name': 'cloudflare'}}}, 'module': 'acme'}]}]}}}}\n",
       "```"
      ],
      "text/plain": [
       "{'apps': {'tls': {'automation': {'policies': (#1) [{'issuers': [{'challenges': {'dns': {'provider': {'api_token': 'Q4WJIAN0l8CBCJg5ZNsPl38H69Y3I9tEomH12BrF', 'name': 'cloudflare'}}}, 'module': 'acme'}]}]}}}}"
      ]
     },
     "execution_count": null,
     "metadata": {},
     "output_type": "execute_result"
    }
   ],
   "source": [
    "gcfg()"
   ]
  },
  {
   "cell_type": "code",
   "execution_count": null,
   "metadata": {},
   "outputs": [],
   "source": [
    "#| export\n",
    "def pid(d, path='/', method='post'):\n",
    "    \"Puts the config `d` into `path`\"\n",
    "    f = getattr(httpx, method)\n",
    "    response = f(get_id(path), json=obj2dict(d))\n",
    "    response.raise_for_status()\n",
    "    return response.text or None"
   ]
  },
  {
   "cell_type": "code",
   "execution_count": null,
   "metadata": {},
   "outputs": [],
   "source": [
    "#| export\n",
    "def pcfg(d, path='/', method='post'):\n",
    "    \"Puts the config `d` into `path`\"\n",
    "    f = getattr(httpx, method)\n",
    "    response = f(get_path(path), json=obj2dict(d))\n",
    "    response.raise_for_status()\n",
    "    return response.text or None"
   ]
  },
  {
   "cell_type": "code",
   "execution_count": null,
   "metadata": {},
   "outputs": [],
   "source": [
    "# pcfg({})"
   ]
  },
  {
   "cell_type": "code",
   "execution_count": null,
   "metadata": {},
   "outputs": [],
   "source": [
    "#| export\n",
    "def nested_setdict(sd, value, *keys):\n",
    "    \"Returns `sd` updated to set `value` at the path `keys`\"\n",
    "    d = sd\n",
    "    for key in keys[:-1]: d = d.setdefault(key, {})\n",
    "    d[keys[-1]] = value\n",
    "    return sd"
   ]
  },
  {
   "cell_type": "code",
   "execution_count": null,
   "metadata": {},
   "outputs": [
    {
     "data": {
      "text/plain": [
       "{'a': 'b', 'apps': {'http': {'servers': {'srv0': {'c': 'd'}}}}}"
      ]
     },
     "execution_count": null,
     "metadata": {},
     "output_type": "execute_result"
    }
   ],
   "source": [
    "nested_setdict({'a':'b'}, {'c':'d'}, 'apps', 'http', 'servers', 'srv0')"
   ]
  },
  {
   "cell_type": "code",
   "execution_count": null,
   "metadata": {},
   "outputs": [],
   "source": [
    "#| export\n",
    "def path2keys(path):\n",
    "    \"Split `path` by '/' into a list\"\n",
    "    return path.strip('/').split('/')"
   ]
  },
  {
   "cell_type": "code",
   "execution_count": null,
   "metadata": {},
   "outputs": [
    {
     "data": {
      "text/plain": [
       "['apps', 'tls', 'automation', 'policies']"
      ]
     },
     "execution_count": null,
     "metadata": {},
     "output_type": "execute_result"
    }
   ],
   "source": [
    "path2keys('/apps/tls/automation/policies')"
   ]
  },
  {
   "cell_type": "code",
   "execution_count": null,
   "metadata": {},
   "outputs": [],
   "source": [
    "#| export\n",
    "def keys2path(*keys):\n",
    "    \"Join `keys` into a '/' separated path\"\n",
    "    return '/'+'/'.join(keys)"
   ]
  },
  {
   "cell_type": "code",
   "execution_count": null,
   "metadata": {},
   "outputs": [
    {
     "data": {
      "text/plain": [
       "'/apps/tls/automation/policies'"
      ]
     },
     "execution_count": null,
     "metadata": {},
     "output_type": "execute_result"
    }
   ],
   "source": [
    "keys2path('apps', 'tls', 'automation', 'policies')"
   ]
  },
  {
   "cell_type": "code",
   "execution_count": null,
   "metadata": {},
   "outputs": [],
   "source": [
    "#| export\n",
    "def nested_setcfg(value, *keys):\n",
    "    d = nested_setdict(gcfg(), value, *keys)\n",
    "    return pcfg(d)"
   ]
  },
  {
   "cell_type": "code",
   "execution_count": null,
   "metadata": {},
   "outputs": [],
   "source": [
    "#| export\n",
    "def init_path(path):\n",
    "    sp = []\n",
    "    for p in path2keys(path):\n",
    "        sp.append(p)\n",
    "        pcfg({}, keys2path(*sp))"
   ]
  },
  {
   "cell_type": "markdown",
   "metadata": {},
   "source": [
    "## Acme setup"
   ]
  },
  {
   "cell_type": "code",
   "execution_count": null,
   "metadata": {},
   "outputs": [],
   "source": [
    "cf_token = 'Q4WJIAN0l8CBCJg5ZNsPl38H69Y3I9tEomH12BrF'"
   ]
  },
  {
   "cell_type": "code",
   "execution_count": null,
   "metadata": {},
   "outputs": [],
   "source": [
    "#| export\n",
    "acme_path = '/apps/tls/automation'\n",
    "def get_acme_config(token):\n",
    "    prov = { \"provider\": { \"name\": \"cloudflare\", \"api_token\": token } }\n",
    "    return {\n",
    "        \"module\": \"acme\",\n",
    "        \"challenges\": { \"dns\": prov }\n",
    "    }"
   ]
  },
  {
   "cell_type": "code",
   "execution_count": null,
   "metadata": {},
   "outputs": [],
   "source": [
    "#| export\n",
    "def add_acme_config(cf_token):\n",
    "    init_path(acme_path)\n",
    "    val = [get_acme_config(cf_token)]\n",
    "    pcfg([{'issuers':val}], acme_path+'/policies')"
   ]
  },
  {
   "cell_type": "code",
   "execution_count": null,
   "metadata": {},
   "outputs": [],
   "source": [
    "# pcfg({})"
   ]
  },
  {
   "cell_type": "code",
   "execution_count": null,
   "metadata": {},
   "outputs": [],
   "source": [
    "add_acme_config(cf_token)"
   ]
  },
  {
   "cell_type": "code",
   "execution_count": null,
   "metadata": {},
   "outputs": [
    {
     "data": {
      "text/markdown": [
       "```json\n",
       "{ 'issuers': [{'challenges': {'dns': {'provider': {'api_token': 'Q4WJIAN0l8CBCJg5ZNsPl38H69Y3I9tEomH12BrF', 'name': 'cloudflare'}}}, 'module': 'acme'}]}\n",
       "```"
      ],
      "text/plain": [
       "{'issuers': (#1) [{'challenges': {'dns': {'provider': {'api_token': 'Q4WJIAN0l8CBCJg5ZNsPl38H69Y3I9tEomH12BrF', 'name': 'cloudflare'}}}, 'module': 'acme'}]}"
      ]
     },
     "execution_count": null,
     "metadata": {},
     "output_type": "execute_result"
    }
   ],
   "source": [
    "gcfg('/apps/tls/automation/policies')[0]"
   ]
  },
  {
   "cell_type": "markdown",
   "metadata": {},
   "source": [
    "## Route setup"
   ]
  },
  {
   "cell_type": "code",
   "execution_count": null,
   "metadata": {},
   "outputs": [],
   "source": [
    "#| export\n",
    "srvs_path = '/apps/http/servers'\n",
    "rts_path = srvs_path+'/srv0/routes'"
   ]
  },
  {
   "cell_type": "code",
   "execution_count": null,
   "metadata": {},
   "outputs": [],
   "source": [
    "#| export\n",
    "def init_routes(srv_name='srv0'):\n",
    "    # Create basic http server/routes config\n",
    "    init_path(srvs_path)\n",
    "    ir = {'listen': [':80', ':443'], 'routes': []}\n",
    "    pcfg(ir, f\"{srvs_path}/{srv_name}\")"
   ]
  },
  {
   "cell_type": "code",
   "execution_count": null,
   "metadata": {},
   "outputs": [],
   "source": [
    "init_routes()"
   ]
  },
  {
   "cell_type": "code",
   "execution_count": null,
   "metadata": {},
   "outputs": [
    {
     "data": {
      "text/markdown": [
       "```json\n",
       "{'srv0': {'listen': [':80', ':443'], 'routes': []}}\n",
       "```"
      ],
      "text/plain": [
       "{'srv0': {'listen': (#2) [':80',':443'], 'routes': (#0) []}}"
      ]
     },
     "execution_count": null,
     "metadata": {},
     "output_type": "execute_result"
    }
   ],
   "source": [
    "gcfg(srvs_path)"
   ]
  },
  {
   "cell_type": "code",
   "execution_count": null,
   "metadata": {},
   "outputs": [],
   "source": [
    "#| export\n",
    "def add_route(route):\n",
    "    \"Add `route` dict to config\"\n",
    "    return pcfg(route, rts_path)"
   ]
  },
  {
   "cell_type": "code",
   "execution_count": null,
   "metadata": {},
   "outputs": [],
   "source": [
    "#| export\n",
    "def add_reverse_proxy(from_host, to_url):\n",
    "    \"Create a reverse proxy handler\"\n",
    "    route = {\n",
    "        \"handle\": [{\n",
    "            \"handler\": \"reverse_proxy\",\n",
    "            \"upstreams\": [{\"dial\": to_url}]\n",
    "        }],\n",
    "        \"match\": [{\"host\": [from_host]}],\n",
    "        \"@id\": from_host,\n",
    "        \"terminal\": True\n",
    "    }\n",
    "    add_route(route)"
   ]
  },
  {
   "cell_type": "code",
   "execution_count": null,
   "metadata": {},
   "outputs": [],
   "source": [
    "host = \"j.pla.sh\""
   ]
  },
  {
   "cell_type": "code",
   "execution_count": null,
   "metadata": {},
   "outputs": [],
   "source": [
    "add_reverse_proxy(host, \"localhost:5001\")"
   ]
  },
  {
   "cell_type": "code",
   "execution_count": null,
   "metadata": {},
   "outputs": [
    {
     "data": {
      "text/markdown": [
       "```json\n",
       "{ 'srv0': { 'listen': [':80', ':443'],\n",
       "            'routes': [{'@id': 'j.pla.sh', 'handle': [{'handler': 'reverse_proxy', 'upstreams': [{'dial': 'localhost:5001'}]}], 'match': [{'host': ['j.pla.sh']}], 'terminal': True}]}}\n",
       "```"
      ],
      "text/plain": [
       "{'srv0': {'listen': (#2) [':80',':443'],\n",
       "  'routes': (#1) [{'@id': 'j.pla.sh', 'handle': [{'handler': 'reverse_proxy', 'upstreams': [{'dial': 'localhost:5001'}]}], 'match': [{'host': ['j.pla.sh']}], 'terminal': True}]}}"
      ]
     },
     "execution_count": null,
     "metadata": {},
     "output_type": "execute_result"
    }
   ],
   "source": [
    "gcfg(srvs_path)"
   ]
  },
  {
   "cell_type": "code",
   "execution_count": null,
   "metadata": {},
   "outputs": [
    {
     "data": {
      "text/markdown": [
       "```json\n",
       "{ '@id': 'j.pla.sh',\n",
       "  'handle': [{'handler': 'reverse_proxy', 'upstreams': [{'dial': 'localhost:5001'}]}],\n",
       "  'match': [{'host': ['j.pla.sh']}],\n",
       "  'terminal': True}\n",
       "```"
      ],
      "text/plain": [
       "{'@id': 'j.pla.sh',\n",
       " 'handle': (#1) [{'handler': 'reverse_proxy', 'upstreams': [{'dial': 'localhost:5001'}]}],\n",
       " 'match': (#1) [{'host': ['j.pla.sh']}],\n",
       " 'terminal': True}"
      ]
     },
     "execution_count": null,
     "metadata": {},
     "output_type": "execute_result"
    }
   ],
   "source": [
    "gid(host)"
   ]
  },
  {
   "cell_type": "code",
   "execution_count": null,
   "metadata": {},
   "outputs": [],
   "source": [
    "#| export\n",
    "def del_id(id):\n",
    "    \"Delete route for `id` (e.g. a host)\"\n",
    "    xdelete(get_id(id))"
   ]
  },
  {
   "cell_type": "code",
   "execution_count": null,
   "metadata": {},
   "outputs": [],
   "source": [
    "# del_id(host)"
   ]
  },
  {
   "cell_type": "code",
   "execution_count": null,
   "metadata": {},
   "outputs": [
    {
     "data": {
      "text/plain": [
       "(#0) []"
      ]
     },
     "execution_count": null,
     "metadata": {},
     "output_type": "execute_result"
    }
   ],
   "source": [
    "gcfg(rts_path)"
   ]
  },
  {
   "cell_type": "markdown",
   "metadata": {},
   "source": [
    "## Export -"
   ]
  },
  {
   "cell_type": "code",
   "execution_count": null,
   "metadata": {},
   "outputs": [],
   "source": [
    "#|hide\n",
    "#|eval: false\n",
    "from nbdev.doclinks import nbdev_export\n",
    "nbdev_export()"
   ]
  },
  {
   "cell_type": "code",
   "execution_count": null,
   "metadata": {},
   "outputs": [],
   "source": []
  }
 ],
 "metadata": {
  "kernelspec": {
   "display_name": "python3",
   "language": "python",
   "name": "python3"
  }
 },
 "nbformat": 4,
 "nbformat_minor": 4
}
