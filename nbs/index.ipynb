{
 "cells": [
  {
   "cell_type": "code",
   "execution_count": null,
   "metadata": {},
   "outputs": [],
   "source": [
    "#| hide\n",
    "from fastcaddy import *"
   ]
  },
  {
   "cell_type": "markdown",
   "metadata": {},
   "source": [
    "# fastcaddy\n",
    "\n",
    "> A simple python wrapper for using the caddy API"
   ]
  },
  {
   "cell_type": "markdown",
   "metadata": {},
   "source": [
    "## Usage"
   ]
  },
  {
   "cell_type": "markdown",
   "metadata": {},
   "source": [
    "### Installation"
   ]
  },
  {
   "cell_type": "markdown",
   "metadata": {},
   "source": [
    "Install from [pypi][pypi]\n",
    "\n",
    "\n",
    "```sh\n",
    "$ pip install fastcaddy\n",
    "```\n",
    "\n",
    "[pypi]: https://pypi.org/project/fastcaddy/"
   ]
  },
  {
   "cell_type": "markdown",
   "metadata": {},
   "source": [
    "## Installing Caddy"
   ]
  },
  {
   "cell_type": "markdown",
   "metadata": {},
   "source": [
    "This project is to help you use the caddy API, rather than a Caddyfile, to use caddy. To use the API, you need to install a plugin for your domain management service. We use Cloudflare, so we'll document that here. For other domain services, see the Caddy docs for other plugins."
   ]
  },
  {
   "cell_type": "markdown",
   "metadata": {},
   "source": [
    "### Cloudflare setup"
   ]
  },
  {
   "cell_type": "code",
   "execution_count": null,
   "metadata": {},
   "outputs": [],
   "source": [
    "from fastcore.utils import *"
   ]
  },
  {
   "cell_type": "markdown",
   "metadata": {},
   "source": [
    "You'll need a token from Cloudflare with access to modify the necessary settings. Here's the steps to create a token with the minimal privileges. You'll need to install the cloudflare pip package, then import:"
   ]
  },
  {
   "cell_type": "code",
   "execution_count": null,
   "metadata": {},
   "outputs": [],
   "source": [
    "from cloudflare import Cloudflare"
   ]
  },
  {
   "cell_type": "markdown",
   "metadata": {},
   "source": [
    "Then you'll need create a Cloudflare API token for your user, which we'll then use to create the less privileged token.\n",
    "\n",
    "To create your user API token in Cloudflair, go to My Profile > API Tokens. Create the token using the template \"Create Additional Tokens.\" This will pre-select the \"User.API Tokens\" Edit permission for you. Add the \"Zone.Zone\" Read permission, as well."
   ]
  },
  {
   "cell_type": "code",
   "execution_count": null,
   "metadata": {},
   "outputs": [],
   "source": [
    "cf_token = os.environ['CLOUDFLARE_API_TOKEN']"
   ]
  },
  {
   "cell_type": "markdown",
   "metadata": {},
   "source": [
    "We can now check that works OK:"
   ]
  },
  {
   "cell_type": "code",
   "execution_count": null,
   "metadata": {},
   "outputs": [
    {
     "data": {
      "text/plain": [
       "8"
      ]
     },
     "execution_count": null,
     "metadata": {},
     "output_type": "execute_result"
    }
   ],
   "source": [
    "cf = Cloudflare(api_token=cf_token)\n",
    "zones = cf.zones.list()\n",
    "len(zones.result)"
   ]
  },
  {
   "cell_type": "markdown",
   "metadata": {},
   "source": [
    "Replace this with your domain name:"
   ]
  },
  {
   "cell_type": "code",
   "execution_count": null,
   "metadata": {},
   "outputs": [],
   "source": [
    "domain = 'answer.ai'\n",
    "zones = cf.zones.list(name=domain)\n",
    "assert len(zones.result)==1"
   ]
  },
  {
   "cell_type": "code",
   "execution_count": null,
   "metadata": {},
   "outputs": [],
   "source": [
    "zone_id = zones.result[0].id"
   ]
  },
  {
   "cell_type": "markdown",
   "metadata": {},
   "source": [
    "Here's the methods available for modifying DNS records:\n",
    "\n",
    "- `client.dns.records.create(*, zone_id, **params) -> Optional`\n",
    "- `client.dns.records.update(dns_record_id, *, zone_id, **params) -> Optional`\n",
    "- `client.dns.records.list(*, zone_id, **params) -> SyncV4PagePaginationArray[Record]`\n",
    "- `client.dns.records.delete(dns_record_id, *, zone_id) -> Optional`\n",
    "- `client.dns.records.edit(dns_record_id, *, zone_id, **params) -> Optional`\n",
    "- `client.dns.records.export(*, zone_id) -> str`\n",
    "- `client.dns.records.get(dns_record_id, *, zone_id) -> Optional`\n",
    "- `client.dns.records.import\\_(*, zone_id, **params) -> Optional`\n",
    "- `client.dns.records.scan(*, zone_id, **params) -> Optional`"
   ]
  },
  {
   "cell_type": "markdown",
   "metadata": {},
   "source": [
    "…and here's the methods for tokens:\n",
    "\n",
    "```python\n",
    "from cloudflare.types.user import (CIDRList, Policy, Token, TokenCreateResponse, TokenUpdateResponse, TokenListResponse,\n",
    "                                   TokenDeleteResponse, TokenGetResponse, TokenVerifyResponse)\n",
    "```\n",
    "\n",
    "- `client.user.tokens.create(**params) -> Optional`\n",
    "- `client.user.tokens.update(token_id, **params) -> object`\n",
    "- `client.user.tokens.list(**params) -> SyncV4PagePaginationArray[object]`\n",
    "- `client.user.tokens.delete(token_id) -> Optional`\n",
    "- `client.user.tokens.get(token_id) -> object`\n",
    "- `client.user.tokens.verify() -> Optional`\n",
    "\n",
    "```python\n",
    "from cloudflare.types.user.tokens import PermissionGroupListResponse\n",
    "```\n",
    "\n",
    "- client.user.tokens.permission_groups.list() -> SyncSinglePage[object]\n",
    "\n",
    "```python\n",
    "from cloudflare.types.user.tokens import Value\n",
    "```\n",
    "\n",
    "- client.user.tokens.value.update(token_id, **params) -> str"
   ]
  },
  {
   "cell_type": "markdown",
   "metadata": {},
   "source": [
    "We need these two permissions in our token:"
   ]
  },
  {
   "cell_type": "code",
   "execution_count": null,
   "metadata": {},
   "outputs": [],
   "source": [
    "permission_groups = cf.user.tokens.permission_groups.list()\n",
    "\n",
    "dns_write = next(group for group in permission_groups if group['name'] == 'DNS Write')\n",
    "zone_read = next(group for group in permission_groups if group['name'] == 'Zone Read')"
   ]
  },
  {
   "cell_type": "markdown",
   "metadata": {},
   "source": [
    "Now we can create it:\n",
    "\n",
    "```python\n",
    "new_token = cf.user.tokens.create(\n",
    "    name='caddy_dns',\n",
    "    policies=[{\n",
    "        \"effect\": \"allow\",\n",
    "        \"resources\": { f\"com.cloudflare.api.account.zone.{zone_id}\": \"*\" },\n",
    "        \"permission_groups\": [\n",
    "            {\"id\": zone_read['id'], \"name\": \"Zone Read\"},\n",
    "            {\"id\": dns_write['id'], \"name\": \"DNS Write\"}\n",
    "        ]\n",
    "    }]\n",
    ")\n",
    "\n",
    "print(new_token.value)\n",
    "```"
   ]
  },
  {
   "cell_type": "markdown",
   "metadata": {},
   "source": [
    "Make a copy of this value, which we'll need for setting up caddy."
   ]
  },
  {
   "cell_type": "markdown",
   "metadata": {},
   "source": [
    "### Installing caddy"
   ]
  },
  {
   "cell_type": "markdown",
   "metadata": {},
   "source": [
    "To install caddy, we'll use a tool called `xcaddy`. This is written in go. So first install go:\n",
    "\n",
    "- Mac: `brew install go`\n",
    "- Linux: `sudo apt install golang`\n",
    "\n",
    "Now we can install xcaddy:\n",
    "\n",
    "```sh\n",
    "go install github.com/caddyserver/xcaddy/cmd/xcaddy@latest\n",
    "```\n",
    "\n",
    "Then we use that to compile caddy with our desired domain plugin (cloudflare, in this case):\n",
    "\n",
    "```sh\n",
    "cd ~/go/bin\n",
    "./xcaddy build --with github.com/caddy-dns/cloudflare\n",
    "```\n",
    "\n",
    "This gives us a `~/go/bin/caddy` binary we can run:\n",
    "\n",
    "```sh\n",
    "./caddy version\n",
    "./caddy run\n",
    "```"
   ]
  },
  {
   "cell_type": "markdown",
   "metadata": {},
   "source": [
    "### Securely run caddy on start"
   ]
  },
  {
   "cell_type": "markdown",
   "metadata": {},
   "source": [
    "If you're using a server or running caddy a lot, you'll want it to run on start. And if you're making it publicly accessible, you'll want it to be secure. This isn't needed otherwise -- you can just `~/go/bin/caddy run` to run it manually (you may want to add `~/go/bin` to your `PATH` env var).\n",
    "\n",
    "To set this up, run from this repo root:\n",
    "\n",
    "```sh\n",
    "./setup_service.sh\n",
    "```\n",
    "\n",
    "If all went well, you should see output like this:\n",
    "\n",
    "```sh\n",
    "● caddy.service - Caddy\n",
    "     Loaded: loaded (/etc/systemd/system/caddy.service; enabled; preset: enabled)\n",
    "     Active: active (running) since Sat 2024-11-09 05:06:47 UTC; 2 days ago\n",
    "       Docs: https://caddyserver.com/docs/\n",
    "   Main PID: 138140 (caddy)\n",
    "      Tasks: 29 (limit: 154166)\n",
    "     Memory: 19.3M (peak: 28.8M)\n",
    "        CPU: 3min 37.216s\n",
    "     CGroup: /system.slice/caddy.service\n",
    "             └─138140 /usr/bin/caddy run --environ\n",
    "```"
   ]
  },
  {
   "cell_type": "markdown",
   "metadata": {},
   "source": [
    "## How to use"
   ]
  },
  {
   "cell_type": "markdown",
   "metadata": {},
   "source": [
    "We will now show how to set up caddy as a reverse proxy for hosts added dynamically. We'll grab our token from the previous step (assuming here that it's stored in an env var):"
   ]
  },
  {
   "cell_type": "code",
   "execution_count": null,
   "metadata": {},
   "outputs": [],
   "source": [
    "cf_token = os.environ.get('CADDY_CF_TOKEN', 'XXX')"
   ]
  },
  {
   "cell_type": "markdown",
   "metadata": {},
   "source": [
    "We can now setup the basic routes needed for caddy:"
   ]
  },
  {
   "cell_type": "code",
   "execution_count": null,
   "metadata": {},
   "outputs": [],
   "source": [
    "setup_caddy(cf_token)"
   ]
  },
  {
   "cell_type": "markdown",
   "metadata": {},
   "source": [
    "To view the configuration created, use [`gcfg`](https://AnswerDotAI.github.io/fastcaddy/core.html#gcfg):"
   ]
  },
  {
   "cell_type": "code",
   "execution_count": null,
   "metadata": {},
   "outputs": [
    {
     "data": {
      "text/markdown": [
       "```json\n",
       "{ 'apps': { 'http': { 'servers': { 'srv0': { 'listen': [':80', ':443'],\n",
       "                                             'routes': []}}},\n",
       "            'tls': { 'automation': { 'policies': [{'issuers': [{'challenges': {'dns': {'provider': {'api_token': 'XXX', 'name': 'cloudflare'}}}, 'module': 'acme'}]}]}}}}\n",
       "```"
      ],
      "text/plain": [
       "{'apps': {'http': {'servers': {'srv0': {'listen': (#2) [':80',':443'],\n",
       "     'routes': (#0) []}}},\n",
       "  'tls': {'automation': {'policies': (#1) [{'issuers': [{'challenges': {'dns': {'provider': {'api_token': 'XXX', 'name': 'cloudflare'}}}, 'module': 'acme'}]}]}}}}"
      ]
     },
     "execution_count": null,
     "metadata": {},
     "output_type": "execute_result"
    }
   ],
   "source": [
    "gcfg()"
   ]
  },
  {
   "cell_type": "markdown",
   "metadata": {},
   "source": [
    "You can also view a sub-path of the configuration:"
   ]
  },
  {
   "cell_type": "code",
   "execution_count": null,
   "metadata": {},
   "outputs": [
    {
     "data": {
      "text/markdown": [
       "```json\n",
       "{'srv0': {'listen': [':80', ':443'], 'routes': []}}\n",
       "```"
      ],
      "text/plain": [
       "{'srv0': {'listen': (#2) [':80',':443'], 'routes': (#0) []}}"
      ]
     },
     "execution_count": null,
     "metadata": {},
     "output_type": "execute_result"
    }
   ],
   "source": [
    "gcfg('/apps/http/servers')"
   ]
  },
  {
   "cell_type": "markdown",
   "metadata": {},
   "source": [
    "To add a reverse proxy, use [`add_reverse_proxy`](https://AnswerDotAI.github.io/fastcaddy/core.html#add_reverse_proxy):"
   ]
  },
  {
   "cell_type": "code",
   "execution_count": null,
   "metadata": {},
   "outputs": [],
   "source": [
    "host = 'jph.answer.ai'\n",
    "add_reverse_proxy(host, 'localhost:5001')"
   ]
  },
  {
   "cell_type": "markdown",
   "metadata": {},
   "source": [
    "This is automatically added with an id matching the host, which you can view with [`gid`](https://AnswerDotAI.github.io/fastcaddy/core.html#gid):"
   ]
  },
  {
   "cell_type": "code",
   "execution_count": null,
   "metadata": {},
   "outputs": [
    {
     "data": {
      "text/markdown": [
       "```json\n",
       "{ '@id': 'jph.answer.ai',\n",
       "  'handle': [{'handler': 'reverse_proxy', 'upstreams': [{'dial': 'localhost:5001'}]}],\n",
       "  'match': [{'host': ['jph.answer.ai']}],\n",
       "  'terminal': True}\n",
       "```"
      ],
      "text/plain": [
       "{'@id': 'jph.answer.ai',\n",
       " 'handle': (#1) [{'handler': 'reverse_proxy', 'upstreams': [{'dial': 'localhost:5001'}]}],\n",
       " 'match': (#1) [{'host': ['jph.answer.ai']}],\n",
       " 'terminal': True}"
      ]
     },
     "execution_count": null,
     "metadata": {},
     "output_type": "execute_result"
    }
   ],
   "source": [
    "gid('jph.answer.ai')"
   ]
  },
  {
   "cell_type": "markdown",
   "metadata": {},
   "source": [
    "If you call this again with the same host, it will be replaced:"
   ]
  },
  {
   "cell_type": "code",
   "execution_count": null,
   "metadata": {},
   "outputs": [
    {
     "data": {
      "text/markdown": [
       "```json\n",
       "{'handler': 'reverse_proxy', 'upstreams': [{'dial': 'localhost:8000'}]}\n",
       "```"
      ],
      "text/plain": [
       "{'handler': 'reverse_proxy', 'upstreams': (#1) [{'dial': 'localhost:8000'}]}"
      ]
     },
     "execution_count": null,
     "metadata": {},
     "output_type": "execute_result"
    }
   ],
   "source": [
    "add_reverse_proxy(host, 'localhost:8000')\n",
    "gid('jph.answer.ai').handle[0]"
   ]
  },
  {
   "cell_type": "markdown",
   "metadata": {},
   "source": [
    "To remove a host, delete its id:"
   ]
  },
  {
   "cell_type": "code",
   "execution_count": null,
   "metadata": {},
   "outputs": [],
   "source": [
    "del_id(host)"
   ]
  },
  {
   "cell_type": "code",
   "execution_count": null,
   "metadata": {},
   "outputs": [],
   "source": []
  }
 ],
 "metadata": {
  "kernelspec": {
   "display_name": "python3",
   "language": "python",
   "name": "python3"
  }
 },
 "nbformat": 4,
 "nbformat_minor": 4
}
